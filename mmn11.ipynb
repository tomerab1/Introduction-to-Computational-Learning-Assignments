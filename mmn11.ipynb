{
 "cells": [
  {
   "cell_type": "markdown",
   "metadata": {
    "id": "ooh-HDGMwMYm"
   },
   "source": [
    "# Dataset loading\n"
   ]
  },
  {
   "cell_type": "code",
   "execution_count": 1,
   "metadata": {
    "id": "WXGrBB74wL4B"
   },
   "outputs": [],
   "source": [
    "from sklearn.datasets import fetch_openml\n",
    "from sklearn.model_selection import train_test_split\n",
    "from tqdm.notebook import tqdm\n",
    "import numpy as np\n",
    "import pandas as pd\n",
    "import seaborn as sns\n",
    "import matplotlib.pyplot as plt\n",
    "\n",
    "%matplotlib inline"
   ]
  },
  {
   "cell_type": "code",
   "execution_count": 2,
   "metadata": {
    "id": "XrjafsgfxEqR"
   },
   "outputs": [],
   "source": [
    "# load the MNIST dataset.\n",
    "mnist = fetch_openml('mnist_784', version=1)"
   ]
  },
  {
   "cell_type": "code",
   "execution_count": 3,
   "metadata": {
    "colab": {
     "base_uri": "https://localhost:8080/",
     "height": 468
    },
    "collapsed": true,
    "id": "qyG2Qc5r4tCm",
    "outputId": "cd2cc144-477d-44b1-d214-b717525c2d28"
   },
   "outputs": [
    {
     "data": {
      "text/plain": [
       "<Axes: xlabel='class', ylabel='count'>"
      ]
     },
     "execution_count": 3,
     "metadata": {},
     "output_type": "execute_result"
    },
    {
     "data": {
      "image/png": "[encoded data removed]",
      "text/plain": [
       "<Figure size 640x480 with 1 Axes>"
      ]
     },
     "metadata": {},
     "output_type": "display_data"
    }
   ],
   "source": [
    "N_SAMPLES = 10_000\n",
    "x, y = mnist['data'][:N_SAMPLES], mnist['target'][:N_SAMPLES]\n",
    "Y = y.to_numpy().astype(np.uint8)\n",
    "m_rows, n_cols = x.shape\n",
    "\n",
    "# Plot the count of each label\n",
    "sns.countplot(y.to_frame(), x='class')"
   ]
  },
  {
   "cell_type": "code",
   "execution_count": 4,
   "metadata": {
    "colab": {
     "base_uri": "https://localhost:8080/"
    },
    "id": "JEGYeqgc45wv",
    "outputId": "50a876f1-84ac-4e36-ec55-7ca66b0c085a"
   },
   "outputs": [
    {
     "data": {
      "text/plain": [
       "array([[1., 0., 0., ..., 0., 0., 0.],\n",
       "       [1., 0., 0., ..., 0., 0., 0.],\n",
       "       [1., 0., 0., ..., 0., 0., 0.],\n",
       "       ...,\n",
       "       [1., 0., 0., ..., 0., 0., 0.],\n",
       "       [1., 0., 0., ..., 0., 0., 0.],\n",
       "       [1., 0., 0., ..., 0., 0., 0.]])"
      ]
     },
     "execution_count": 4,
     "metadata": {},
     "output_type": "execute_result"
    }
   ],
   "source": [
    "# Create the features matrix X and add the bias element to each row\n",
    "mat_X = np.c_[np.ones(x.shape[0]), x.to_numpy()]\n",
    "mat_X"
   ]
  },
  {
   "cell_type": "code",
   "execution_count": 5,
   "metadata": {
    "colab": {
     "base_uri": "https://localhost:8080/"
    },
    "collapsed": true,
    "id": "bCyDQlw86o-7",
    "outputId": "1865130a-12e3-426c-998a-734b752c0698"
   },
   "outputs": [
    {
     "data": {
      "text/plain": [
       "array([[0, 0, 0, ..., 0, 0, 0],\n",
       "       [1, 0, 0, ..., 0, 0, 0],\n",
       "       [0, 0, 0, ..., 0, 0, 0],\n",
       "       ...,\n",
       "       [0, 0, 0, ..., 0, 0, 0],\n",
       "       [0, 0, 0, ..., 0, 0, 1],\n",
       "       [0, 0, 0, ..., 1, 0, 0]], dtype=uint8)"
      ]
     },
     "execution_count": 5,
     "metadata": {},
     "output_type": "execute_result"
    }
   ],
   "source": [
    "# Hot encode y.\n",
    "Y_hot = np.zeros(shape=(m_rows, 10), dtype=np.uint8)\n",
    "# Go over each row and place 1 at the index of the label, i.e label 3 will be placed at the 3rd index.\n",
    "Y_hot[range(m_rows), Y] = 1\n",
    "Y_hot"
   ]
  },
  {
   "cell_type": "code",
   "execution_count": 6,
   "metadata": {
    "colab": {
     "base_uri": "https://localhost:8080/",
     "height": 36
    },
    "collapsed": true,
    "id": "SOnN5sx0_D-3",
    "outputId": "2627038c-7b6d-40cc-b317-229eacd1ae4a"
   },
   "outputs": [
    {
     "data": {
      "application/vnd.google.colaboratory.intrinsic+json": {
       "type": "string"
      },
      "text/plain": [
       "'X_train(8000, 785), X_test(2000, 785), Y_train(8000, 10), Y_test(2000, 10)'"
      ]
     },
     "execution_count": 6,
     "metadata": {},
     "output_type": "execute_result"
    }
   ],
   "source": [
    "X_train, X_test, Y_train, Y_test = train_test_split(mat_X, Y_hot, test_size=0.2, random_state=42)\n",
    "f\"X_train{X_train.shape}, X_test{X_test.shape}, Y_train{Y_train.shape}, Y_test{Y_test.shape}\""
   ]
  },
  {
   "cell_type": "code",
   "execution_count": 7,
   "metadata": {
    "colab": {
     "base_uri": "https://localhost:8080/"
    },
    "collapsed": true,
    "id": "WqIO1GEOJiwu",
    "outputId": "4825cf3a-b0f0-4897-f8d1-c85f40ead03c"
   },
   "outputs": [
    {
     "data": {
      "text/plain": [
       "array([6, 2, 5, ..., 9, 0, 5])"
      ]
     },
     "execution_count": 7,
     "metadata": {},
     "output_type": "execute_result"
    }
   ],
   "source": [
    "y_lables = np.argmax(Y_train, axis=1)\n",
    "y_lables"
   ]
  },
  {
   "cell_type": "markdown",
   "metadata": {
    "id": "0vlmGoDW-r48"
   },
   "source": [
    "# Part A - The perceptron learning algorithm"
   ]
  },
  {
   "cell_type": "code",
   "execution_count": 8,
   "metadata": {
    "id": "Cus_86ApAE8Q"
   },
   "outputs": [],
   "source": [
    "class PLA:\n",
    "  def __init__(self, max_epochs = 1000):\n",
    "    self.max_epochs = max_epochs\n",
    "\n",
    "  def fit(self, X, Y):\n",
    "    m, n_features = X.shape\n",
    "\n",
    "    self.w_with_bias = np.zeros(n_features)\n",
    "    self.pocket = self.w_with_bias\n",
    "    min_err = float('inf')\n",
    "\n",
    "    for _ in tqdm(range(self.max_epochs)):\n",
    "      errors = 0\n",
    "      for i in range(m):\n",
    "        y_hat = self.predict_one(X[i])\n",
    "\n",
    "        if y_hat != Y[i]:\n",
    "          self.w_with_bias += Y[i] * X[i]\n",
    "          errors += 1\n",
    "\n",
    "      if errors < min_err:\n",
    "          min_err = errors\n",
    "          self.pocket = self.w_with_bias\n",
    "\n",
    "      if errors == 0:\n",
    "        break\n",
    "\n",
    "  def predict_one(self, x):\n",
    "    return np.sign(self.w_with_bias.T @ x)\n",
    "\n",
    "  def predict(self, X):\n",
    "    return np.apply_along_axis(self.predict_one, 1, X)\n",
    "\n",
    "  def get_wb(self):\n",
    "    return self.pocket"
   ]
  },
  {
   "cell_type": "code",
   "execution_count": 9,
   "metadata": {
    "id": "QuQ8RrN_PqP6"
   },
   "outputs": [],
   "source": [
    "class PLAOneVsAll:\n",
    "  def __init__(self, max_epochs = 1000):\n",
    "    self.max_epochs = max_epochs\n",
    "\n",
    "  def fit(self, X, Y):\n",
    "    m, n_features = X.shape\n",
    "    n_classes = Y.shape[1]\n",
    "    self.w_mat = np.zeros(shape=(n_classes, n_features))\n",
    "\n",
    "    y_signed = np.where(Y == 0, -1, 1)\n",
    "    for i in tqdm(range(n_classes)):\n",
    "      classifier = PLA(self.max_epochs)\n",
    "      classifier.fit(X, y_signed[:, i])\n",
    "      self.w_mat[i] = classifier.get_wb()\n",
    "\n",
    "  def predict(self, X):\n",
    "    \"\"\"Gets the class with the highest confidence score\"\"\"\n",
    "    return (self.w_mat @ X.T).argmax(axis=0)"
   ]
  },
  {
   "cell_type": "code",
   "execution_count": 10,
   "metadata": {
    "colab": {
     "base_uri": "https://localhost:8080/",
     "height": 369,
     "referenced_widgets": [
      "57eed3330c194620897d5e330a038bce",
      "cd422e588a7f48fdadec8eb350cb2de9",
      "6b4edc8a4b9d497aa30fb6bca7add8f5",
      "4e357bd0470146be9d329e928b3a33e6",
      "e3884395fc4342d7b5606304d7b604db",
      "48e12431262b42b98d32ecd098d75b6a",
      "da63c9f39a2346cca537a2b62d2b2c9d",
      "32565ee1215144cea0130358934695b8",
      "ecd07e3688b043fda68b189877843c84",
      "bbbcd5fa1c9e43119b15c81e2d36d48d",
      "4ce01583afd34aab9e307e9bedf2c85e",
      "0a1b960cb2ec4cb8a64565ec4e4ee10c",
      "76b3a66dc748478f8d161a69fc0bb95a",
      "7186236047084fb19f3ca69e06e7af28",
      "490789eec71e466eb92c4ed3d009c7ae",
      "2bd509f986be4a288b340cf3da2e10c2",
      "8d9a2f71ec9246d8b81928691c830add",
      "4727ecd4052d4e7b9c0b6f85d39d955a",
      "c700b56368444cbfaea05dd03ef4fd20",
      "9fa2b2aeacc843b38cd6bf4318c729a7",
      "8124f546bc1b41e2be7032eead43cb0d",
      "8f166c0f895e46f196cf04164a995936",
      "9ccf9f20ceea4d9aa741dc2a3e91a7e2",
      "d9681acfb99b4f69a3bf723f8ed73a93",
      "129ba7515caa43dfb73a70254b7cf07a",
      "e6e380f8bba145df93a4e3ab4d2beb8a",
      "3c3a2b7b8c3b41d3b05c078c016cf6b5",
      "4afd0f3b78dc4a5d95bbb08abcef83c4",
      "50c6f166cf3048438d92c68018ad75f2",
      "3ee93ecaf8164a31b1465695fc6d5871",
      "2cf39058a0684fdfbd30b6022fc7981b",
      "32d82df8af5b48c3a11b514c7c8cc0c7",
      "866cc0fe5e3e48c89288368e0984492b",
      "9c7a848767d3444391607d0e64cae9b2",
      "21f04816de51466ca146b0b0c9bfd952",
      "500e473bce3f4d7e884876f636acb7e9",
      "e54af1b2bc994342ba54f4d588bf0020",
      "a3344ec7ee304a77a14622dbf527222c",
      "0647de5827ac405d9f3b81528f33905e",
      "1aeef52c2c174c259b9f8d37415ad344",
      "2e299bfadfcd49c5b3892f2dd2d30251",
      "a356e0ac41b441fc8f1ea9a3274ae9c6",
      "633782a5f0d44e8eb54555ba7895516a",
      "8f0fbaaeb2394fd09609d61e2f2dc973",
      "17370e0a675341cb9428a1dd99fe5df6",
      "1e100cba633540e6b6b844bbf4fc3292",
      "1086824e920245a4b40c848c60afe85c",
      "2449748f64e14ddfa26893278e084a87",
      "0012eab974704529a572e428abb2f05c",
      "54ddb02798674bea8f90402c8ddcd9c6",
      "91773baaf88744b2a73e3c57083c4010",
      "57c41504d2e54ec39ad128ce90084c1f",
      "45f8569031784899ae956919ba524151",
      "ad19569b3069428f9b06ee1a9e7aa17f",
      "900b737999564c53a10d0dba4185680c",
      "c3de550800304847b09a3c35956a984e",
      "0991786f38c4451c91f18f788b0a13c8",
      "42638440af8845498ac96a653185be39",
      "3d17c023ceea400eae98eca0605c9470",
      "8201a06e4b364693adf5e345f2976181",
      "a5a32a1a2b464816b97a26be9659ed0f",
      "724a6efe6b3a4ff5973ebdc08a2e8edc",
      "4c9e204d9bc44ec0bf96f99270d563f0",
      "b7e8513f0b224c84ae76e1787b24e3c4",
      "5dc37d5157ff4f9794367608594e13f8",
      "c97871e19e014ee4944e10c3737599d2",
      "6d2157eb4da749c89caf7ca279bc6b9c",
      "6834a60c81cf4e069a7565c5bbfcf809",
      "70a1e6d15f7746309004ca9bfd9a7479",
      "bbb3873d8efc405ca5af4901632e9da8",
      "4fc8665226e54d39a7267c68aa7ae905",
      "4cc19e784b984aed8883f5dd13129500",
      "2893533e79fe43edb33a60155ee5f4d3",
      "0e79245a0ed24e4ca1a77359386c90e4",
      "4d946657df4f475bbfb00d2ad021855d",
      "6f854f88dd0d4ed0b6554e49dfa2d139",
      "1bb347b2db9d4eb7a9239ff54238b52d",
      "f81ae2f4a13e41189ad2304dced0fae2",
      "12f59ecac3864f38b1aa1d10d62a03f7",
      "2d098e0701354003866f56a46bfa5351",
      "fd3ceadd1f6d4de68aaeec07c74be40f",
      "c3f05c963eea4d6eaa26d6524c1a0c0c",
      "73ba4975118643328c211d05a6e50c25",
      "ff9483ddac1c48dba5bda02196092ce4",
      "053359c4269a4487aeee0a624f378cbf",
      "b335bf82587e460eb9b0f12dad0ecb4f",
      "5308fcd02a9a439189f520fa75acdd82",
      "9aeed669a120447896f452305787dd47",
      "fa244ab830144745a4432c1283e5c9d4",
      "d407de8faa6945c6b4e6038e47d47632",
      "7b5d49dfb0914c7085c1d94a53428d2e",
      "4429dcbcd76046a9b16880d94843a704",
      "c20fc22b02fb4a958064ffb53c0af71f",
      "115ee3aca3324a7690b464d4cbf450d3",
      "e54321d357694e05b24b3f679e0e1667",
      "7b5fb018b28041d1be5e0d4995b03a87",
      "ab6cc5b8e84b4be7bce5855c50fab195",
      "a1efa9c63de042df85f72775a4bc3af2",
      "b3f260078d4b43c18f7fa4fa1198a95a",
      "27545b7a68054a1da7a78a287cce5417",
      "17b10bb042834447a91bff464b00196a",
      "df67f665f21f4fa2beaca0b7025c13d9",
      "12562e2858304719b6c8d9adbc011530",
      "77181dcf26b74531bb8d69ea1ad715c7",
      "4f59c58386404f5188daf6da24e4d693",
      "854be4e767314d499896b6af36b755dc",
      "6f5be878ba854ee29b5c5d450080c106",
      "8ef2407670bb4e65a36930c369e1963a",
      "ea972ba7bd70437586b8352d9838e171",
      "c0ea909939434a1ebccfb80cef45d54b",
      "56c68b21ac124fb7a0c1595b9b80b40a",
      "f8e4ac4399ce404dbdcd6b63178b2d61",
      "f1e4d9ca954049dd9dd892fe4580e85c",
      "f90de3512afa4cde85e982c882935235",
      "fa4d95e61cbb4163a956b1a6e26d866f",
      "84395d4680d54de496d5862c3bb17c33",
      "1239ec4cd40c49519f28b049ecb02821",
      "a49cfdfeaa57449dac8c78e6ad1650a2",
      "7edc9d62a5f14751826cc4602fc8f19e",
      "d9ff0dbd64bd405ca119f1b3e48a539d",
      "934185e9cf564a6c94e0eb7c4e68702d"
     ]
    },
    "collapsed": true,
    "id": "5hMk2jb0VXFs",
    "outputId": "2b524cb8-e66f-4e68-db90-1ea329676100"
   },
   "outputs": [
    {
     "data": {
      "application/vnd.jupyter.widget-view+json": {
       "model_id": "57eed3330c194620897d5e330a038bce",
       "version_major": 2,
       "version_minor": 0
      },
      "text/plain": [
       "  0%|          | 0/10 [00:00<?, ?it/s]"
      ]
     },
     "metadata": {},
     "output_type": "display_data"
    },
    {
     "data": {
      "application/vnd.jupyter.widget-view+json": {
       "model_id": "0a1b960cb2ec4cb8a64565ec4e4ee10c",
       "version_major": 2,
       "version_minor": 0
      },
      "text/plain": [
       "  0%|          | 0/1000 [00:00<?, ?it/s]"
      ]
     },
     "metadata": {},
     "output_type": "display_data"
    },
    {
     "data": {
      "application/vnd.jupyter.widget-view+json": {
       "model_id": "9ccf9f20ceea4d9aa741dc2a3e91a7e2",
       "version_major": 2,
       "version_minor": 0
      },
      "text/plain": [
       "  0%|          | 0/1000 [00:00<?, ?it/s]"
      ]
     },
     "metadata": {},
     "output_type": "display_data"
    },
    {
     "data": {
      "application/vnd.jupyter.widget-view+json": {
       "model_id": "9c7a848767d3444391607d0e64cae9b2",
       "version_major": 2,
       "version_minor": 0
      },
      "text/plain": [
       "  0%|          | 0/1000 [00:00<?, ?it/s]"
      ]
     },
     "metadata": {},
     "output_type": "display_data"
    },
    {
     "data": {
      "application/vnd.jupyter.widget-view+json": {
       "model_id": "17370e0a675341cb9428a1dd99fe5df6",
       "version_major": 2,
       "version_minor": 0
      },
      "text/plain": [
       "  0%|          | 0/1000 [00:00<?, ?it/s]"
      ]
     },
     "metadata": {},
     "output_type": "display_data"
    },
    {
     "data": {
      "application/vnd.jupyter.widget-view+json": {
       "model_id": "c3de550800304847b09a3c35956a984e",
       "version_major": 2,
       "version_minor": 0
      },
      "text/plain": [
       "  0%|          | 0/1000 [00:00<?, ?it/s]"
      ]
     },
     "metadata": {},
     "output_type": "display_data"
    },
    {
     "data": {
      "application/vnd.jupyter.widget-view+json": {
       "model_id": "6d2157eb4da749c89caf7ca279bc6b9c",
       "version_major": 2,
       "version_minor": 0
      },
      "text/plain": [
       "  0%|          | 0/1000 [00:00<?, ?it/s]"
      ]
     },
     "metadata": {},
     "output_type": "display_data"
    },
    {
     "data": {
      "application/vnd.jupyter.widget-view+json": {
       "model_id": "f81ae2f4a13e41189ad2304dced0fae2",
       "version_major": 2,
       "version_minor": 0
      },
      "text/plain": [
       "  0%|          | 0/1000 [00:00<?, ?it/s]"
      ]
     },
     "metadata": {},
     "output_type": "display_data"
    },
    {
     "data": {
      "application/vnd.jupyter.widget-view+json": {
       "model_id": "fa244ab830144745a4432c1283e5c9d4",
       "version_major": 2,
       "version_minor": 0
      },
      "text/plain": [
       "  0%|          | 0/1000 [00:00<?, ?it/s]"
      ]
     },
     "metadata": {},
     "output_type": "display_data"
    },
    {
     "data": {
      "application/vnd.jupyter.widget-view+json": {
       "model_id": "27545b7a68054a1da7a78a287cce5417",
       "version_major": 2,
       "version_minor": 0
      },
      "text/plain": [
       "  0%|          | 0/1000 [00:00<?, ?it/s]"
      ]
     },
     "metadata": {},
     "output_type": "display_data"
    },
    {
     "data": {
      "application/vnd.jupyter.widget-view+json": {
       "model_id": "56c68b21ac124fb7a0c1595b9b80b40a",
       "version_major": 2,
       "version_minor": 0
      },
      "text/plain": [
       "  0%|          | 0/1000 [00:00<?, ?it/s]"
      ]
     },
     "metadata": {},
     "output_type": "display_data"
    }
   ],
   "source": [
    "one_vs_all = PLAOneVsAll()\n",
    "one_vs_all.fit(X_train, Y_train)"
   ]
  },
  {
   "cell_type": "code",
   "execution_count": 11,
   "metadata": {
    "id": "w6JAD9MoVcvy"
   },
   "outputs": [],
   "source": [
    "def create_confusion_matrix(y_true, y_pred, dim=10):\n",
    "  m = len(y_true)\n",
    "\n",
    "  confusion_matrix = np.zeros((dim, dim), dtype=np.uint32)\n",
    "  for i in range(m):\n",
    "    confusion_matrix[y_true[i], y_pred[i]] += 1\n",
    "\n",
    "  return confusion_matrix"
   ]
  },
  {
   "cell_type": "code",
   "execution_count": 12,
   "metadata": {
    "id": "_KKtS6PNV-2X"
   },
   "outputs": [],
   "source": [
    "def plot_confusion_matrix(actual, predicted, dim=10, *, title=None, class_names=None):\n",
    "    cm = create_confusion_matrix(actual, predicted, dim)\n",
    "\n",
    "    sns.heatmap(cm, annot=True, fmt=\"d\", cmap=\"Reds\", xticklabels=class_names, yticklabels=class_names)\n",
    "    plt.title(title)\n",
    "    plt.xlabel(\"Predicted\")\n",
    "    plt.ylabel(\"Actual\")\n",
    "    plt.show()"
   ]
  },
  {
   "cell_type": "code",
   "execution_count": 13,
   "metadata": {
    "id": "wiAEES4HZnXi"
   },
   "outputs": [],
   "source": [
    "def calculate_accuracy(y_true, y_pred, dim=10):\n",
    "    cm = create_confusion_matrix(y_true, y_pred, dim)\n",
    "    return np.trace(cm) / cm.sum()\n"
   ]
  },
  {
   "cell_type": "code",
   "execution_count": 14,
   "metadata": {
    "colab": {
     "base_uri": "https://localhost:8080/",
     "height": 510
    },
    "id": "H9J_xkMXWPqW",
    "outputId": "d2f7d1de-063e-4c92-e68f-f31815e1e1f2"
   },
   "outputs": [
    {
     "data": {
      "image/png": "[encoded data removed]",
      "text/plain": [
       "<Figure size 640x480 with 2 Axes>"
      ]
     },
     "metadata": {},
     "output_type": "display_data"
    },
    {
     "name": "stdout",
     "output_type": "stream",
     "text": [
      "\n",
      "Accuracy: 86.7%\n"
     ]
    }
   ],
   "source": [
    "y_true = Y_test.argmax(axis=1)\n",
    "y_pred = one_vs_all.predict(X_test)\n",
    "\n",
    "plot_confusion_matrix(y_true, y_pred, title=\"Perceptron one vs all\", class_names=range(10))\n",
    "print(f\"\\nAccuracy: {calculate_accuracy(y_true, y_pred) * 100}%\")"
   ]
  },
  {
   "cell_type": "code",
   "execution_count": 88,
   "metadata": {
    "colab": {
     "base_uri": "https://localhost:8080/",
     "height": 363
    },
    "id": "b4I1F1PM4shD",
    "outputId": "8afb78e2-ffff-4ee9-d2f2-23edce1797bd"
   },
   "outputs": [
    {
     "data": {
      "application/vnd.google.colaboratory.intrinsic+json": {
       "summary": "{\n  \"name\": \"df\",\n  \"rows\": 10,\n  \"fields\": [\n    {\n      \"column\": \"Digits\",\n      \"properties\": {\n        \"dtype\": \"number\",\n        \"std\": 3,\n        \"min\": 0,\n        \"max\": 9,\n        \"num_unique_values\": 10,\n        \"samples\": [\n          8,\n          1,\n          5\n        ],\n        \"semantic_type\": \"\",\n        \"description\": \"\"\n      }\n    },\n    {\n      \"column\": \"TPR\",\n      \"properties\": {\n        \"dtype\": \"number\",\n        \"std\": 0.07314604927330624,\n        \"min\": 0.75,\n        \"max\": 0.9454545454545454,\n        \"num_unique_values\": 10,\n        \"samples\": [\n          0.8493975903614458,\n          0.9305555555555556,\n          0.75\n        ],\n        \"semantic_type\": \"\",\n        \"description\": \"\"\n      }\n    }\n  ]\n}",
       "type": "dataframe",
       "variable_name": "df"
      },
      "text/html": [
       "\n",
       "  <div id=\"df-7879d456-83f2-44ce-9f80-cd000fba7cfc\" class=\"colab-df-container\">\n",
       "    <div>\n",
       "<style scoped>\n",
       "    .dataframe tbody tr th:only-of-type {\n",
       "        vertical-align: middle;\n",
       "    }\n",
       "\n",
       "    .dataframe tbody tr th {\n",
       "        vertical-align: top;\n",
       "    }\n",
       "\n",
       "    .dataframe thead th {\n",
       "        text-align: right;\n",
       "    }\n",
       "</style>\n",
       "<table border=\"1\" class=\"dataframe\">\n",
       "  <thead>\n",
       "    <tr style=\"text-align: right;\">\n",
       "      <th></th>\n",
       "      <th>Digits</th>\n",
       "      <th>TPR</th>\n",
       "    </tr>\n",
       "  </thead>\n",
       "  <tbody>\n",
       "    <tr>\n",
       "      <th>0</th>\n",
       "      <td>0</td>\n",
       "      <td>0.942029</td>\n",
       "    </tr>\n",
       "    <tr>\n",
       "      <th>1</th>\n",
       "      <td>1</td>\n",
       "      <td>0.930556</td>\n",
       "    </tr>\n",
       "    <tr>\n",
       "      <th>2</th>\n",
       "      <td>2</td>\n",
       "      <td>0.779412</td>\n",
       "    </tr>\n",
       "    <tr>\n",
       "      <th>3</th>\n",
       "      <td>3</td>\n",
       "      <td>0.776042</td>\n",
       "    </tr>\n",
       "    <tr>\n",
       "      <th>4</th>\n",
       "      <td>4</td>\n",
       "      <td>0.867299</td>\n",
       "    </tr>\n",
       "    <tr>\n",
       "      <th>5</th>\n",
       "      <td>5</td>\n",
       "      <td>0.750000</td>\n",
       "    </tr>\n",
       "    <tr>\n",
       "      <th>6</th>\n",
       "      <td>6</td>\n",
       "      <td>0.945455</td>\n",
       "    </tr>\n",
       "    <tr>\n",
       "      <th>7</th>\n",
       "      <td>7</td>\n",
       "      <td>0.916667</td>\n",
       "    </tr>\n",
       "    <tr>\n",
       "      <th>8</th>\n",
       "      <td>8</td>\n",
       "      <td>0.849398</td>\n",
       "    </tr>\n",
       "    <tr>\n",
       "      <th>9</th>\n",
       "      <td>9</td>\n",
       "      <td>0.875000</td>\n",
       "    </tr>\n",
       "  </tbody>\n",
       "</table>\n",
       "</div>\n",
       "    <div class=\"colab-df-buttons\">\n",
       "\n",
       "  <div class=\"colab-df-container\">\n",
       "    <button class=\"colab-df-convert\" onclick=\"convertToInteractive('df-7879d456-83f2-44ce-9f80-cd000fba7cfc')\"\n",
       "            title=\"Convert this dataframe to an interactive table.\"\n",
       "            style=\"display:none;\">\n",
       "\n",
       "  <svg xmlns=\"http://www.w3.org/2000/svg\" height=\"24px\" viewBox=\"0 -960 960 960\">\n",
       "    <path d=\"M120-120v-720h720v720H120Zm60-500h600v-160H180v160Zm220 220h160v-160H400v160Zm0 220h160v-160H400v160ZM180-400h160v-160H180v160Zm440 0h160v-160H620v160ZM180-180h160v-160H180v160Zm440 0h160v-160H620v160Z\"/>\n",
       "  </svg>\n",
       "    </button>\n",
       "\n",
       "  <style>\n",
       "    .colab-df-container {\n",
       "      display:flex;\n",
       "      gap: 12px;\n",
       "    }\n",
       "\n",
       "    .colab-df-convert {\n",
       "      background-color: #E8F0FE;\n",
       "      border: none;\n",
       "      border-radius: 50%;\n",
       "      cursor: pointer;\n",
       "      display: none;\n",
       "      fill: #1967D2;\n",
       "      height: 32px;\n",
       "      padding: 0 0 0 0;\n",
       "      width: 32px;\n",
       "    }\n",
       "\n",
       "    .colab-df-convert:hover {\n",
       "      background-color: #E2EBFA;\n",
       "      box-shadow: 0px 1px 2px rgba(60, 64, 67, 0.3), 0px 1px 3px 1px rgba(60, 64, 67, 0.15);\n",
       "      fill: #174EA6;\n",
       "    }\n",
       "\n",
       "    .colab-df-buttons div {\n",
       "      margin-bottom: 4px;\n",
       "    }\n",
       "\n",
       "    [theme=dark] .colab-df-convert {\n",
       "      background-color: #3B4455;\n",
       "      fill: #D2E3FC;\n",
       "    }\n",
       "\n",
       "    [theme=dark] .colab-df-convert:hover {\n",
       "      background-color: #434B5C;\n",
       "      box-shadow: 0px 1px 3px 1px rgba(0, 0, 0, 0.15);\n",
       "      filter: drop-shadow(0px 1px 2px rgba(0, 0, 0, 0.3));\n",
       "      fill: #FFFFFF;\n",
       "    }\n",
       "  </style>\n",
       "\n",
       "    <script>\n",
       "      const buttonEl =\n",
       "        document.querySelector('#df-7879d456-83f2-44ce-9f80-cd000fba7cfc button.colab-df-convert');\n",
       "      buttonEl.style.display =\n",
       "        google.colab.kernel.accessAllowed ? 'block' : 'none';\n",
       "\n",
       "      async function convertToInteractive(key) {\n",
       "        const element = document.querySelector('#df-7879d456-83f2-44ce-9f80-cd000fba7cfc');\n",
       "        const dataTable =\n",
       "          await google.colab.kernel.invokeFunction('convertToInteractive',\n",
       "                                                    [key], {});\n",
       "        if (!dataTable) return;\n",
       "\n",
       "        const docLinkHtml = 'Like what you see? Visit the ' +\n",
       "          '<a target=\"_blank\" href=https://colab.research.google.com/notebooks/data_table.ipynb>data table notebook</a>'\n",
       "          + ' to learn more about interactive tables.';\n",
       "        element.innerHTML = '';\n",
       "        dataTable['output_type'] = 'display_data';\n",
       "        await google.colab.output.renderOutput(dataTable, element);\n",
       "        const docLink = document.createElement('div');\n",
       "        docLink.innerHTML = docLinkHtml;\n",
       "        element.appendChild(docLink);\n",
       "      }\n",
       "    </script>\n",
       "  </div>\n",
       "\n",
       "\n",
       "<div id=\"df-6758df85-85ad-4fcb-9703-029a48728ac2\">\n",
       "  <button class=\"colab-df-quickchart\" onclick=\"quickchart('df-6758df85-85ad-4fcb-9703-029a48728ac2')\"\n",
       "            title=\"Suggest charts\"\n",
       "            style=\"display:none;\">\n",
       "\n",
       "<svg xmlns=\"http://www.w3.org/2000/svg\" height=\"24px\"viewBox=\"0 0 24 24\"\n",
       "     width=\"24px\">\n",
       "    <g>\n",
       "        <path d=\"M19 3H5c-1.1 0-2 .9-2 2v14c0 1.1.9 2 2 2h14c1.1 0 2-.9 2-2V5c0-1.1-.9-2-2-2zM9 17H7v-7h2v7zm4 0h-2V7h2v10zm4 0h-2v-4h2v4z\"/>\n",
       "    </g>\n",
       "</svg>\n",
       "  </button>\n",
       "\n",
       "<style>\n",
       "  .colab-df-quickchart {\n",
       "      --bg-color: #E8F0FE;\n",
       "      --fill-color: #1967D2;\n",
       "      --hover-bg-color: #E2EBFA;\n",
       "      --hover-fill-color: #174EA6;\n",
       "      --disabled-fill-color: #AAA;\n",
       "      --disabled-bg-color: #DDD;\n",
       "  }\n",
       "\n",
       "  [theme=dark] .colab-df-quickchart {\n",
       "      --bg-color: #3B4455;\n",
       "      --fill-color: #D2E3FC;\n",
       "      --hover-bg-color: #434B5C;\n",
       "      --hover-fill-color: #FFFFFF;\n",
       "      --disabled-bg-color: #3B4455;\n",
       "      --disabled-fill-color: #666;\n",
       "  }\n",
       "\n",
       "  .colab-df-quickchart {\n",
       "    background-color: var(--bg-color);\n",
       "    border: none;\n",
       "    border-radius: 50%;\n",
       "    cursor: pointer;\n",
       "    display: none;\n",
       "    fill: var(--fill-color);\n",
       "    height: 32px;\n",
       "    padding: 0;\n",
       "    width: 32px;\n",
       "  }\n",
       "\n",
       "  .colab-df-quickchart:hover {\n",
       "    background-color: var(--hover-bg-color);\n",
       "    box-shadow: 0 1px 2px rgba(60, 64, 67, 0.3), 0 1px 3px 1px rgba(60, 64, 67, 0.15);\n",
       "    fill: var(--button-hover-fill-color);\n",
       "  }\n",
       "\n",
       "  .colab-df-quickchart-complete:disabled,\n",
       "  .colab-df-quickchart-complete:disabled:hover {\n",
       "    background-color: var(--disabled-bg-color);\n",
       "    fill: var(--disabled-fill-color);\n",
       "    box-shadow: none;\n",
       "  }\n",
       "\n",
       "  .colab-df-spinner {\n",
       "    border: 2px solid var(--fill-color);\n",
       "    border-color: transparent;\n",
       "    border-bottom-color: var(--fill-color);\n",
       "    animation:\n",
       "      spin 1s steps(1) infinite;\n",
       "  }\n",
       "\n",
       "  @keyframes spin {\n",
       "    0% {\n",
       "      border-color: transparent;\n",
       "      border-bottom-color: var(--fill-color);\n",
       "      border-left-color: var(--fill-color);\n",
       "    }\n",
       "    20% {\n",
       "      border-color: transparent;\n",
       "      border-left-color: var(--fill-color);\n",
       "      border-top-color: var(--fill-color);\n",
       "    }\n",
       "    30% {\n",
       "      border-color: transparent;\n",
       "      border-left-color: var(--fill-color);\n",
       "      border-top-color: var(--fill-color);\n",
       "      border-right-color: var(--fill-color);\n",
       "    }\n",
       "    40% {\n",
       "      border-color: transparent;\n",
       "      border-right-color: var(--fill-color);\n",
       "      border-top-color: var(--fill-color);\n",
       "    }\n",
       "    60% {\n",
       "      border-color: transparent;\n",
       "      border-right-color: var(--fill-color);\n",
       "    }\n",
       "    80% {\n",
       "      border-color: transparent;\n",
       "      border-right-color: var(--fill-color);\n",
       "      border-bottom-color: var(--fill-color);\n",
       "    }\n",
       "    90% {\n",
       "      border-color: transparent;\n",
       "      border-bottom-color: var(--fill-color);\n",
       "    }\n",
       "  }\n",
       "</style>\n",
       "\n",
       "  <script>\n",
       "    async function quickchart(key) {\n",
       "      const quickchartButtonEl =\n",
       "        document.querySelector('#' + key + ' button');\n",
       "      quickchartButtonEl.disabled = true;  // To prevent multiple clicks.\n",
       "      quickchartButtonEl.classList.add('colab-df-spinner');\n",
       "      try {\n",
       "        const charts = await google.colab.kernel.invokeFunction(\n",
       "            'suggestCharts', [key], {});\n",
       "      } catch (error) {\n",
       "        console.error('Error during call to suggestCharts:', error);\n",
       "      }\n",
       "      quickchartButtonEl.classList.remove('colab-df-spinner');\n",
       "      quickchartButtonEl.classList.add('colab-df-quickchart-complete');\n",
       "    }\n",
       "    (() => {\n",
       "      let quickchartButtonEl =\n",
       "        document.querySelector('#df-6758df85-85ad-4fcb-9703-029a48728ac2 button');\n",
       "      quickchartButtonEl.style.display =\n",
       "        google.colab.kernel.accessAllowed ? 'block' : 'none';\n",
       "    })();\n",
       "  </script>\n",
       "</div>\n",
       "\n",
       "  <div id=\"id_84e0c8ab-01a8-422d-ac23-e8635f92808e\">\n",
       "    <style>\n",
       "      .colab-df-generate {\n",
       "        background-color: #E8F0FE;\n",
       "        border: none;\n",
       "        border-radius: 50%;\n",
       "        cursor: pointer;\n",
       "        display: none;\n",
       "        fill: #1967D2;\n",
       "        height: 32px;\n",
       "        padding: 0 0 0 0;\n",
       "        width: 32px;\n",
       "      }\n",
       "\n",
       "      .colab-df-generate:hover {\n",
       "        background-color: #E2EBFA;\n",
       "        box-shadow: 0px 1px 2px rgba(60, 64, 67, 0.3), 0px 1px 3px 1px rgba(60, 64, 67, 0.15);\n",
       "        fill: #174EA6;\n",
       "      }\n",
       "\n",
       "      [theme=dark] .colab-df-generate {\n",
       "        background-color: #3B4455;\n",
       "        fill: #D2E3FC;\n",
       "      }\n",
       "\n",
       "      [theme=dark] .colab-df-generate:hover {\n",
       "        background-color: #434B5C;\n",
       "        box-shadow: 0px 1px 3px 1px rgba(0, 0, 0, 0.15);\n",
       "        filter: drop-shadow(0px 1px 2px rgba(0, 0, 0, 0.3));\n",
       "        fill: #FFFFFF;\n",
       "      }\n",
       "    </style>\n",
       "    <button class=\"colab-df-generate\" onclick=\"generateWithVariable('df')\"\n",
       "            title=\"Generate code using this dataframe.\"\n",
       "            style=\"display:none;\">\n",
       "\n",
       "  <svg xmlns=\"http://www.w3.org/2000/svg\" height=\"24px\"viewBox=\"0 0 24 24\"\n",
       "       width=\"24px\">\n",
       "    <path d=\"M7,19H8.4L18.45,9,17,7.55,7,17.6ZM5,21V16.75L18.45,3.32a2,2,0,0,1,2.83,0l1.4,1.43a1.91,1.91,0,0,1,.58,1.4,1.91,1.91,0,0,1-.58,1.4L9.25,21ZM18.45,9,17,7.55Zm-12,3A5.31,5.31,0,0,0,4.9,8.1,5.31,5.31,0,0,0,1,6.5,5.31,5.31,0,0,0,4.9,4.9,5.31,5.31,0,0,0,6.5,1,5.31,5.31,0,0,0,8.1,4.9,5.31,5.31,0,0,0,12,6.5,5.46,5.46,0,0,0,6.5,12Z\"/>\n",
       "  </svg>\n",
       "    </button>\n",
       "    <script>\n",
       "      (() => {\n",
       "      const buttonEl =\n",
       "        document.querySelector('#id_84e0c8ab-01a8-422d-ac23-e8635f92808e button.colab-df-generate');\n",
       "      buttonEl.style.display =\n",
       "        google.colab.kernel.accessAllowed ? 'block' : 'none';\n",
       "\n",
       "      buttonEl.onclick = () => {\n",
       "        google.colab.notebook.generateWithVariable('df');\n",
       "      }\n",
       "      })();\n",
       "    </script>\n",
       "  </div>\n",
       "\n",
       "    </div>\n",
       "  </div>\n"
      ],
      "text/plain": [
       "   Digits       TPR\n",
       "0       0  0.942029\n",
       "1       1  0.930556\n",
       "2       2  0.779412\n",
       "3       3  0.776042\n",
       "4       4  0.867299\n",
       "5       5  0.750000\n",
       "6       6  0.945455\n",
       "7       7  0.916667\n",
       "8       8  0.849398\n",
       "9       9  0.875000"
      ]
     },
     "execution_count": 88,
     "metadata": {},
     "output_type": "execute_result"
    }
   ],
   "source": [
    "def generate_confusion_table(cm, cls):\n",
    "  ct = np.zeros((2,2))\n",
    "\n",
    "  TP = cm[cls, cls]\n",
    "  FP = cm[:, cls].sum() - TP\n",
    "  FN = cm[cls, :].sum() - TP\n",
    "  TN = cm.sum() - TP - FP - FN\n",
    "\n",
    "  ct[0,0] = TP\n",
    "  ct[0,1] = FN\n",
    "  ct[1,0] = FP\n",
    "  ct[1,1] = TN\n",
    "\n",
    "  return ct\n",
    "\n",
    "cm = create_confusion_matrix(y_true, y_pred)\n",
    "ct_of_classes = [generate_confusion_table(cm, i) for i in range(10)]\n",
    "df = pd.DataFrame(range(10), columns=[\"Digits\"])\n",
    "df[\"TPR\"] = np.nan\n",
    "\n",
    "for cls in range(10):\n",
    "  ct = ct_of_classes[cls]\n",
    "  TP = ct[0, 0]\n",
    "  FN = ct[0, 1]\n",
    "  df.loc[cls, \"TPR\"] = TP / (TP + FN)\n",
    "\n",
    "df"
   ]
  },
  {
   "cell_type": "markdown",
   "metadata": {
    "id": "zDJbn7h3-ZGj"
   },
   "source": [
    "# Part B - Softmax Regression"
   ]
  },
  {
   "cell_type": "code",
   "execution_count": 92,
   "metadata": {
    "id": "pKGH45Km-cnR"
   },
   "outputs": [],
   "source": [
    "class SoftmaxRegression:\n",
    "  _WIN_SIZE = 10\n",
    "\n",
    "  def __init__(self, max_epochs = 1000):\n",
    "    self._max_epochs = max_epochs\n",
    "    self._window = np.zeros(shape(SoftmaxRegression._WIN_SIZE))\n",
    "\n",
    "  def fit(self, X, Y):\n",
    "    m, n_features = X.shape\n",
    "    n_classes = Y.shape[1]\n",
    "\n",
    "    self._w = np.zeros(shape=(n_classes, n_features))\n",
    "    self._b = 0\n",
    "\n",
    "    for _ in range(self._max_epochs):\n",
    "      for i in range(m):\n",
    "        pass\n",
    "\n",
    "  def _dw(self, X, Y, YH):\n",
    "    \"\"\" Derivative of the weights\"\"\"\n",
    "    pass\n",
    "\n",
    "  def _db():\n",
    "    \"\"\"Derivative of the bias\"\"\"\n",
    "    pass\n",
    "\n",
    "  def _softmax(self, z):\n",
    "    \"\"\"Softmax function\"\"\"\n",
    "    exp_z = np.exp(z)\n",
    "    return exp_z / exp_z.sum()\n",
    "\n",
    "  def _sigmoid(self, x):\n",
    "    \"\"\"Sigmoid function\"\"\"\n",
    "    return 1 / (1 + np.exp(-X))\n",
    "\n",
    "  def _dsigmoid(self, x):\n",
    "    \"\"\"Derivative of the sigmoid function\"\"\"\n",
    "    return self._sigmoid(x) * (1 - self._sigmoid(x))\n",
    "\n",
    "  def _moving_avg(self):\n",
    "    \"\"\"Moving average for the η value\"\"\"\n",
    "    return self._window.sum() / SoftmaxRegression._WIN_SIZE\n",
    "\n",
    "  def _predict_one(self, X):\n",
    "    return self._sigmoid(self._w.T @ X + self._b)\n",
    "\n",
    "  def _error_in_sample(self, y, yh):\n",
    "    \"\"\"Evaluate the in-sample error\"\"\"\n",
    "\n",
    "    m = y.shape[0]\n",
    "    return (1/m) * -np.sum(y * np.log(yh) - (1 - y)*np.log(1 - y))\n",
    "\n",
    "  def predict(self, X):\n",
    "    return np.apply_along_axis(self._predict_one, 1, X)\n",
    "\n"
   ]
  },
  {
   "cell_type": "code",
   "execution_count": 91,
   "metadata": {
    "id": "-RU_KgnKZFSp"
   },
   "outputs": [],
   "source": []
  },
  {
   "cell_type": "markdown",
   "metadata": {
    "id": "a7FBaLcA-7nm"
   },
   "source": [
    "# Part C - Linear Regression"
   ]
  },
  {
   "cell_type": "code",
   "execution_count": null,
   "metadata": {
    "id": "OhcuAdmV--Pz"
   },
   "outputs": [],
   "source": []
  }
 ],
 "metadata": {
  "colab": {
   "collapsed_sections": [
    "ooh-HDGMwMYm",
    "a7FBaLcA-7nm"
   ],
   "provenance": []
  },
  "kernelspec": {
   "display_name": "Python 3",
   "name": "python3"
  },
  "language_info": {
   "name": "python"
  }
 },
 "nbformat": 4,
 "nbformat_minor": 0
}
