{
 "cells": [
  {
   "cell_type": "markdown",
   "metadata": {
    "id": "ooh-HDGMwMYm"
   },
   "source": [
    "# Dataset loading\n"
   ]
  },
  {
   "cell_type": "code",
   "execution_count": 1,
   "metadata": {
    "id": "WXGrBB74wL4B"
   },
   "outputs": [],
   "source": [
    "from sklearn.datasets import fetch_openml\n",
    "from sklearn.model_selection import train_test_split\n",
    "from tqdm.notebook import tqdm\n",
    "import numpy as np\n",
    "import pandas as pd\n",
    "import seaborn as sns\n",
    "import matplotlib.pyplot as plt\n",
    "\n",
    "%matplotlib inline"
   ]
  },
  {
   "cell_type": "code",
   "execution_count": 2,
   "metadata": {
    "id": "XrjafsgfxEqR"
   },
   "outputs": [],
   "source": [
    "# load the MNIST dataset.\n",
    "mnist = fetch_openml('mnist_784', version=1)"
   ]
  },
  {
   "cell_type": "code",
   "execution_count": 296,
   "metadata": {
    "colab": {
     "base_uri": "https://localhost:8080/",
     "height": 468
    },
    "collapsed": true,
    "id": "qyG2Qc5r4tCm",
    "outputId": "bb502bd9-8b8b-458f-c9bf-6842b2a2771f"
   },
   "outputs": [
    {
     "data": {
      "text/plain": [
       "<Axes: xlabel='class', ylabel='count'>"
      ]
     },
     "execution_count": 296,
     "metadata": {},
     "output_type": "execute_result"
    },
    {
     "data": {
      "image/png": "[encoded data removed]",
      "text/plain": [
       "<Figure size 640x480 with 1 Axes>"
      ]
     },
     "metadata": {},
     "output_type": "display_data"
    }
   ],
   "source": [
    "N_SAMPLES = 10_000\n",
    "x, y = mnist['data'][:N_SAMPLES], mnist['target'][:N_SAMPLES]\n",
    "Y = y.to_numpy().astype(np.uint8)\n",
    "m_rows, n_cols = x.shape\n",
    "\n",
    "# Plot the count of each label\n",
    "sns.countplot(y.to_frame(), x='class')"
   ]
  },
  {
   "cell_type": "code",
   "execution_count": 297,
   "metadata": {
    "colab": {
     "base_uri": "https://localhost:8080/"
    },
    "id": "JEGYeqgc45wv",
    "outputId": "293cb719-f9d4-4649-b2fb-d897c8d05178"
   },
   "outputs": [
    {
     "data": {
      "text/plain": [
       "array([[1., 0., 0., ..., 0., 0., 0.],\n",
       "       [1., 0., 0., ..., 0., 0., 0.],\n",
       "       [1., 0., 0., ..., 0., 0., 0.],\n",
       "       ...,\n",
       "       [1., 0., 0., ..., 0., 0., 0.],\n",
       "       [1., 0., 0., ..., 0., 0., 0.],\n",
       "       [1., 0., 0., ..., 0., 0., 0.]])"
      ]
     },
     "execution_count": 297,
     "metadata": {},
     "output_type": "execute_result"
    }
   ],
   "source": [
    "# Create the features matrix X and add the bias element to each row\n",
    "mat_X = np.c_[np.ones(x.shape[0]), x.to_numpy()]\n",
    "mat_X"
   ]
  },
  {
   "cell_type": "code",
   "execution_count": 298,
   "metadata": {
    "colab": {
     "base_uri": "https://localhost:8080/"
    },
    "collapsed": true,
    "id": "bCyDQlw86o-7",
    "outputId": "e3319e79-5f54-490f-c658-5d5e01893484"
   },
   "outputs": [
    {
     "data": {
      "text/plain": [
       "array([[0, 0, 0, ..., 0, 0, 0],\n",
       "       [1, 0, 0, ..., 0, 0, 0],\n",
       "       [0, 0, 0, ..., 0, 0, 0],\n",
       "       ...,\n",
       "       [0, 0, 0, ..., 0, 0, 0],\n",
       "       [0, 0, 0, ..., 0, 0, 1],\n",
       "       [0, 0, 0, ..., 1, 0, 0]], dtype=uint8)"
      ]
     },
     "execution_count": 298,
     "metadata": {},
     "output_type": "execute_result"
    }
   ],
   "source": [
    "# Hot encode y.\n",
    "Y_hot = np.zeros(shape=(m_rows, 10), dtype=np.uint8)\n",
    "# Go over each row and place 1 at the index of the label, i.e label 3 will be placed at the 3rd index.\n",
    "Y_hot[range(m_rows), Y] = 1\n",
    "Y_hot"
   ]
  },
  {
   "cell_type": "code",
   "execution_count": 299,
   "metadata": {
    "colab": {
     "base_uri": "https://localhost:8080/",
     "height": 36
    },
    "collapsed": true,
    "id": "SOnN5sx0_D-3",
    "outputId": "1fe55fb4-2027-454a-d6a7-df1ea55128fa"
   },
   "outputs": [
    {
     "data": {
      "application/vnd.google.colaboratory.intrinsic+json": {
       "type": "string"
      },
      "text/plain": [
       "'X_train(8000, 785), X_test(2000, 785), Y_train(8000, 10), Y_test(2000, 10)'"
      ]
     },
     "execution_count": 299,
     "metadata": {},
     "output_type": "execute_result"
    }
   ],
   "source": [
    "X_train, X_test, Y_train, Y_test = train_test_split(mat_X, Y_hot, test_size=0.2, random_state=42)\n",
    "f\"X_train{X_train.shape}, X_test{X_test.shape}, Y_train{Y_train.shape}, Y_test{Y_test.shape}\""
   ]
  },
  {
   "cell_type": "code",
   "execution_count": 300,
   "metadata": {
    "colab": {
     "base_uri": "https://localhost:8080/"
    },
    "collapsed": true,
    "id": "WqIO1GEOJiwu",
    "outputId": "d86d66b9-93b0-4f46-861c-a57b1e3c5f23"
   },
   "outputs": [
    {
     "data": {
      "text/plain": [
       "array([6, 2, 5, ..., 9, 0, 5])"
      ]
     },
     "execution_count": 300,
     "metadata": {},
     "output_type": "execute_result"
    }
   ],
   "source": [
    "y_lables = np.argmax(Y_train, axis=1)\n",
    "y_lables"
   ]
  },
  {
   "cell_type": "markdown",
   "metadata": {
    "id": "0vlmGoDW-r48"
   },
   "source": [
    "# Part A - The perceptron learning algorithm"
   ]
  },
  {
   "cell_type": "code",
   "execution_count": 315,
   "metadata": {
    "id": "Cus_86ApAE8Q"
   },
   "outputs": [],
   "source": [
    "class PLA:\n",
    "  def __init__(self, max_epochs = 1000):\n",
    "    self.max_epochs = max_epochs\n",
    "\n",
    "  def fit(self, X, Y):\n",
    "    m, n_features = X.shape\n",
    "\n",
    "    self.w_with_bias = np.zeros(n_features)\n",
    "    self.pocket = self.w_with_bias\n",
    "    min_err = float('inf')\n",
    "\n",
    "    for _ in tqdm(range(self.max_epochs)):\n",
    "      errors = 0\n",
    "      for i in range(m):\n",
    "        y_hat = self.predict_one(X[i])\n",
    "\n",
    "        if y_hat != Y[i]:\n",
    "          self.w_with_bias += Y[i] * X[i]\n",
    "          errors += 1\n",
    "\n",
    "      if errors < min_err:\n",
    "          min_err = errors\n",
    "          self.pocket = self.w_with_bias\n",
    "\n",
    "      if errors == 0:\n",
    "        break\n",
    "\n",
    "  def predict_one(self, x):\n",
    "    return np.sign(self.w_with_bias.T @ x)\n",
    "\n",
    "  def predict(self, X):\n",
    "    return np.apply_along_axis(self.predict_one, 1, X)\n",
    "\n",
    "  def get_wb(self):\n",
    "    return self.pocket"
   ]
  },
  {
   "cell_type": "code",
   "execution_count": 316,
   "metadata": {
    "id": "QuQ8RrN_PqP6"
   },
   "outputs": [],
   "source": [
    "class PLAOneVsAll:\n",
    "  def __init__(self, max_epochs = 1000):\n",
    "    self.max_epochs = max_epochs\n",
    "\n",
    "  def fit(self, X, Y):\n",
    "    m, n_features = X.shape\n",
    "    n_classes = Y.shape[1]\n",
    "    self.w_mat = np.zeros(shape=(n_classes, n_features))\n",
    "\n",
    "    y_signed = np.where(Y == 0, -1, 1)\n",
    "    for i in tqdm(range(n_classes)):\n",
    "      classifier = PLA(self.max_epochs)\n",
    "      classifier.fit(X, y_signed[:, i])\n",
    "      self.w_mat[i] = classifier.get_wb()\n",
    "\n",
    "  def predict(self, X):\n",
    "    \"\"\"Gets the class with the highest confidence score\"\"\"\n",
    "    return (self.w_mat @ X.T).argmax(axis=0)"
   ]
  },
  {
   "cell_type": "code",
   "execution_count": 317,
   "metadata": {
    "colab": {
     "base_uri": "https://localhost:8080/",
     "height": 369,
     "referenced_widgets": [
      "d26a377a76e24040bae1ecbeab7acbe5",
      "10d2f178364a4505b110772b6088180a",
      "c90c89951ab14d32a3a5e55f07d89cf7",
      "19a3bb299ad24c819611a0ded3aa1d72",
      "52996c79f349408180b6542ee0432e4f",
      "f9b1664d71444df8a73d5dd9334bc5e3",
      "634db02b9e7a411bb7d1dd2ff548acc3",
      "6f5b859795004a8c8cc96e317feac103",
      "f9f6ad626a1b4b3995539d006d8b9f7e",
      "a39a992b48fa4f78876a06cb61c1dc1a",
      "6eea5ee68a544329b531749c853bdc54",
      "e1a0141408b24ca7b0c1ad88606a3397",
      "86028c0399d04936855c63805e27eaad",
      "8ba278712a1844b4bdd318c4de0d7e48",
      "da0feadc38824686b60cdd5f1e5a0d89",
      "13a53477c22540d69084acbdf8d014e2",
      "1da4721fd6824ea5a95ebcab56b4d320",
      "c03f1c085ff64bf3a60f27fc4d80af4c",
      "f3038add64e941dca2bd52fb6d226579",
      "149bae142ef947059f87f8fe32f087d5",
      "b7d45c966aca45ffbf2f5e014b3ba1da",
      "e025618c28724719a5d431359dd01548",
      "3835409704504cde93543be537b7cb2a",
      "f2310cb46d4b4f09a860cb30c18cf3fd",
      "0c1e54b3ae684b88baf75cbe209cb656",
      "ee0a9803115f4c9cb639681d31707b36",
      "50cc81284c994b94af69785991d43fe4",
      "223e8ff60a814d178f512d2159c9acea",
      "70b6af40e52f472981ce1430c87955d1",
      "c9a0f090fa26483e86b48a069dd17081",
      "581ad2d75b084e9696243a0e93cf7771",
      "1fcf43f8341b46b09deb190b387a7db5",
      "8c29c866caaa47e2af15b45611e2517f",
      "d9be044f78024117bb33f8eb3f932868",
      "594d51a9fe0c406d83c5e56aaa5ca26f",
      "13865dc184974648a120208b03c0b65f",
      "261f204c597c4f0dba8b8dfa6258c053",
      "56d9e247cc2747ad95927d43b61d936e",
      "23ace18498e2400db82ee2dd791ebec4",
      "cf6f26ebbb6e451787467947e91c81a3",
      "b5abfb931cd8466bb09199e303d5adcb",
      "c23d76fd9c384b7aac72dc5e265e801f",
      "d73c4540b5ca4c419352a9c84685643a",
      "79af38396b3443348d467b76405d24f7",
      "6071271412e0462987856889d4b6a96b",
      "8fa6047e904e4ef282eb2b5916b1ede7",
      "3649212bd6b141379187592b2e2a9ccd",
      "7611ebc394794b5c90151c868a8f5154",
      "07beed787551484280f3854e64be2436",
      "bf64a83d69c44202b450eb9e598e5aec",
      "7f0adcfa249b45c483a571679e94bdb4",
      "b30728f2518d47c6972224938464dc02",
      "3540970843b6403185454c156331029e",
      "906cc89da46944cfa2b404a1ee83b9bb",
      "166b124ef1fa4285a3f8c3da5983fa8d",
      "c0d82aed7ce14c83811661c0986a3759",
      "62c78feec6da468fb06f2331d242090c",
      "df554938451b461ab448b206d29d309e",
      "44708cf4ee5f4f618e8eb6ba61479c8c",
      "d590d3fbc1674731baf5ef3fa0fb7837",
      "4411555afa60451792f9753af6d8fa53",
      "bb26acea4bc740fca2ecb376279128b7",
      "daebdfe2ac38450996837736d07de0de",
      "11e054849db14236a4dd9ef804a194fa",
      "e1869bfb44ec4d9a87972cb9904a32bf",
      "89a1d2f64a804c018036ff2dbeffdbac",
      "5061866ee2f244cfa9352ccccbead7a0",
      "dceb3e20e2104cf3a3b035f4e309d4a8",
      "1c789556eab44795845426a6cccb01c3",
      "fae4da9f544c4462a7f5fcc1ae80405f",
      "5d8c6687ff0e4f709e446c86d080666f",
      "a45f158d220342809c6c4520377e0b4e",
      "636ef16c975e400cbb90d9054937515c",
      "a8ea2f3192964392acfd8031f2dc82d4",
      "d20dcad6996c4da7b5e2089353943e6a",
      "97735c142f8d4d9cace3f6217a3e26c5",
      "e275e3371e424964a60a6d925527236d",
      "74db4cd09d0b4a40a230c014cb6f5889",
      "0be127b30a5f4d90a6d36103928fe022",
      "79e2a74b57af4ca591255723b34f5667",
      "10e5a87c97764ad7a72c2560e1f045e6",
      "9617cddee97d48c3af2ab1274fca51a8",
      "48dc04938b8b43fe80367d96a6c64114",
      "fc4f09260d6545e8b8bd6767ed76e913",
      "3944cc217110421bb1fb43db337b1a15",
      "8ba67b8abf9441559e349471e58316f8",
      "e2aa196e46d843229ab46dad0f3279bd",
      "0d844c23bc2744a0b6c36251a859fdcc",
      "45f3d10e56a8405c9ee3d52a10a3b669",
      "c2519ff010bf4a88b9f718d7274f4606",
      "5e0920319f7f4c97960c2d109fc4c87e",
      "ed67f141815d4fa3a9c95e095ad723fd",
      "f819cc1d186a4e6abf8b36765625a5fb",
      "0a33145a89b2441e83145e97906228a9",
      "804208b2159748fb9b70d3a3a05addfc",
      "20f0bd9dfc2641d0bb0cc823e29dda79",
      "1af0466d8a824230bda996514788aea5",
      "6734529d272c40c99907cdb427e379ef",
      "2ac7e2d647e84b99b238e6bc90191967",
      "574401d40ba648c29793ec08f5ef5c38",
      "0894e4dac4ad43fba92e34f16650f990",
      "8fb2abc821cd4721b8ba47278c39c51c",
      "eec632c4cd724674a1dcaf20cc565f8f",
      "cae326d08cd34d64959a2f97ed16d642",
      "6d4a87c3a53b4c8e9b78293f94b4778d",
      "52a3afb002a64b07ac6945ac073906fa",
      "4e9951183234430a82d4643cb4e443a7",
      "76960c23a3304b7abd3066107ca7159f",
      "535238435c514789b90366efc5b8ae44",
      "9574f5d20de1460c956b4ab768d05fee",
      "8728536e55244d5e8167fac544c72fc2",
      "9dbcdc0e617d4a21ad4218663abc1a8c",
      "0f1d1c28799846ebaca89a434a9880af",
      "0a0ac1e5321e441595c4e3ffa4696557",
      "ec764d7e48904699b4ecfbe397c5c4dd",
      "9ec8edc342ce48a3ab62a5c651723a6a",
      "078da9a5d0e84cb0b6e59c125044a058",
      "6b20c7ad54c84171ae6f4ecb01fa792e",
      "5eb432fc4a99460691428ce598672155",
      "88fe0ecf022f42a189787d16a3f69d88",
      "a7669e401abe4be995b58e683549850e"
     ]
    },
    "collapsed": true,
    "id": "5hMk2jb0VXFs",
    "outputId": "79f69363-35e5-4834-daf1-a69938007666"
   },
   "outputs": [
    {
     "data": {
      "application/vnd.jupyter.widget-view+json": {
       "model_id": "d26a377a76e24040bae1ecbeab7acbe5",
       "version_major": 2,
       "version_minor": 0
      },
      "text/plain": [
       "  0%|          | 0/10 [00:00<?, ?it/s]"
      ]
     },
     "metadata": {},
     "output_type": "display_data"
    },
    {
     "data": {
      "application/vnd.jupyter.widget-view+json": {
       "model_id": "e1a0141408b24ca7b0c1ad88606a3397",
       "version_major": 2,
       "version_minor": 0
      },
      "text/plain": [
       "  0%|          | 0/1000 [00:00<?, ?it/s]"
      ]
     },
     "metadata": {},
     "output_type": "display_data"
    },
    {
     "data": {
      "application/vnd.jupyter.widget-view+json": {
       "model_id": "3835409704504cde93543be537b7cb2a",
       "version_major": 2,
       "version_minor": 0
      },
      "text/plain": [
       "  0%|          | 0/1000 [00:00<?, ?it/s]"
      ]
     },
     "metadata": {},
     "output_type": "display_data"
    },
    {
     "data": {
      "application/vnd.jupyter.widget-view+json": {
       "model_id": "d9be044f78024117bb33f8eb3f932868",
       "version_major": 2,
       "version_minor": 0
      },
      "text/plain": [
       "  0%|          | 0/1000 [00:00<?, ?it/s]"
      ]
     },
     "metadata": {},
     "output_type": "display_data"
    },
    {
     "data": {
      "application/vnd.jupyter.widget-view+json": {
       "model_id": "6071271412e0462987856889d4b6a96b",
       "version_major": 2,
       "version_minor": 0
      },
      "text/plain": [
       "  0%|          | 0/1000 [00:00<?, ?it/s]"
      ]
     },
     "metadata": {},
     "output_type": "display_data"
    },
    {
     "data": {
      "application/vnd.jupyter.widget-view+json": {
       "model_id": "c0d82aed7ce14c83811661c0986a3759",
       "version_major": 2,
       "version_minor": 0
      },
      "text/plain": [
       "  0%|          | 0/1000 [00:00<?, ?it/s]"
      ]
     },
     "metadata": {},
     "output_type": "display_data"
    },
    {
     "data": {
      "application/vnd.jupyter.widget-view+json": {
       "model_id": "5061866ee2f244cfa9352ccccbead7a0",
       "version_major": 2,
       "version_minor": 0
      },
      "text/plain": [
       "  0%|          | 0/1000 [00:00<?, ?it/s]"
      ]
     },
     "metadata": {},
     "output_type": "display_data"
    },
    {
     "data": {
      "application/vnd.jupyter.widget-view+json": {
       "model_id": "74db4cd09d0b4a40a230c014cb6f5889",
       "version_major": 2,
       "version_minor": 0
      },
      "text/plain": [
       "  0%|          | 0/1000 [00:00<?, ?it/s]"
      ]
     },
     "metadata": {},
     "output_type": "display_data"
    },
    {
     "data": {
      "application/vnd.jupyter.widget-view+json": {
       "model_id": "45f3d10e56a8405c9ee3d52a10a3b669",
       "version_major": 2,
       "version_minor": 0
      },
      "text/plain": [
       "  0%|          | 0/1000 [00:00<?, ?it/s]"
      ]
     },
     "metadata": {},
     "output_type": "display_data"
    },
    {
     "data": {
      "application/vnd.jupyter.widget-view+json": {
       "model_id": "574401d40ba648c29793ec08f5ef5c38",
       "version_major": 2,
       "version_minor": 0
      },
      "text/plain": [
       "  0%|          | 0/1000 [00:00<?, ?it/s]"
      ]
     },
     "metadata": {},
     "output_type": "display_data"
    },
    {
     "data": {
      "application/vnd.jupyter.widget-view+json": {
       "model_id": "8728536e55244d5e8167fac544c72fc2",
       "version_major": 2,
       "version_minor": 0
      },
      "text/plain": [
       "  0%|          | 0/1000 [00:00<?, ?it/s]"
      ]
     },
     "metadata": {},
     "output_type": "display_data"
    }
   ],
   "source": [
    "one_vs_all = PLAOneVsAll()\n",
    "one_vs_all.fit(X_train, Y_train)"
   ]
  },
  {
   "cell_type": "code",
   "execution_count": 318,
   "metadata": {
    "id": "w6JAD9MoVcvy"
   },
   "outputs": [],
   "source": [
    "def create_confusion_matrix(y_true, y_pred, dim=10):\n",
    "  m = len(y_true)\n",
    "\n",
    "  confusion_matrix = np.zeros((dim, dim), dtype=np.uint32)\n",
    "  for i in range(m):\n",
    "    confusion_matrix[y_true[i], y_pred[i]] += 1\n",
    "\n",
    "  return confusion_matrix"
   ]
  },
  {
   "cell_type": "code",
   "execution_count": 319,
   "metadata": {
    "id": "_KKtS6PNV-2X"
   },
   "outputs": [],
   "source": [
    "def plot_confusion_matrix(actual, predicted, dim=10, *, title=None, class_names=None):\n",
    "    cm = create_confusion_matrix(actual, predicted, dim)\n",
    "\n",
    "    sns.heatmap(cm, annot=True, fmt=\"d\", cmap=\"Reds\", xticklabels=class_names, yticklabels=class_names)\n",
    "    plt.title(title)\n",
    "    plt.xlabel(\"Predicted\")\n",
    "    plt.ylabel(\"Actual\")\n",
    "    plt.show()"
   ]
  },
  {
   "cell_type": "code",
   "execution_count": 320,
   "metadata": {
    "id": "wiAEES4HZnXi"
   },
   "outputs": [],
   "source": [
    "def calculate_accuracy(y_true, y_pred, dim=10):\n",
    "    cm = create_confusion_matrix(y_true, y_pred, dim)\n",
    "    return np.trace(cm) / cm.sum()\n"
   ]
  },
  {
   "cell_type": "code",
   "execution_count": 321,
   "metadata": {
    "colab": {
     "base_uri": "https://localhost:8080/",
     "height": 510
    },
    "id": "H9J_xkMXWPqW",
    "outputId": "3feba985-d964-4c03-be1e-c78a20047c5d"
   },
   "outputs": [
    {
     "data": {
      "image/png": "[encoded data removed]",
      "text/plain": [
       "<Figure size 640x480 with 2 Axes>"
      ]
     },
     "metadata": {},
     "output_type": "display_data"
    },
    {
     "name": "stdout",
     "output_type": "stream",
     "text": [
      "\n",
      "Accuracy: 86.7%\n"
     ]
    }
   ],
   "source": [
    "y_true = Y_test.argmax(axis=1)\n",
    "y_pred = one_vs_all.predict(X_test)\n",
    "\n",
    "plot_confusion_matrix(y_true, y_pred, title=\"Perceptron one vs all\", class_names=range(10))\n",
    "print(f\"\\nAccuracy: {calculate_accuracy(y_true, y_pred) * 100}%\")"
   ]
  },
  {
   "cell_type": "code",
   "execution_count": 322,
   "metadata": {
    "colab": {
     "base_uri": "https://localhost:8080/",
     "height": 363
    },
    "id": "b4I1F1PM4shD",
    "outputId": "a4b0bab6-b61b-4c18-86a3-f04d34381652"
   },
   "outputs": [
    {
     "data": {
      "text/html": [
       "<style type=\"text/css\">\n",
       "</style>\n",
       "<table id=\"T_7af68\" class=\"dataframe\">\n",
       "  <thead>\n",
       "    <tr>\n",
       "      <th id=\"T_7af68_level0_col0\" class=\"col_heading level0 col0\" >Digits</th>\n",
       "      <th id=\"T_7af68_level0_col1\" class=\"col_heading level0 col1\" >TPR</th>\n",
       "    </tr>\n",
       "  </thead>\n",
       "  <tbody>\n",
       "    <tr>\n",
       "      <td id=\"T_7af68_row0_col0\" class=\"data row0 col0\" >0</td>\n",
       "      <td id=\"T_7af68_row0_col1\" class=\"data row0 col1\" >0.942029</td>\n",
       "    </tr>\n",
       "    <tr>\n",
       "      <td id=\"T_7af68_row1_col0\" class=\"data row1 col0\" >1</td>\n",
       "      <td id=\"T_7af68_row1_col1\" class=\"data row1 col1\" >0.930556</td>\n",
       "    </tr>\n",
       "    <tr>\n",
       "      <td id=\"T_7af68_row2_col0\" class=\"data row2 col0\" >2</td>\n",
       "      <td id=\"T_7af68_row2_col1\" class=\"data row2 col1\" >0.779412</td>\n",
       "    </tr>\n",
       "    <tr>\n",
       "      <td id=\"T_7af68_row3_col0\" class=\"data row3 col0\" >3</td>\n",
       "      <td id=\"T_7af68_row3_col1\" class=\"data row3 col1\" >0.776042</td>\n",
       "    </tr>\n",
       "    <tr>\n",
       "      <td id=\"T_7af68_row4_col0\" class=\"data row4 col0\" >4</td>\n",
       "      <td id=\"T_7af68_row4_col1\" class=\"data row4 col1\" >0.867299</td>\n",
       "    </tr>\n",
       "    <tr>\n",
       "      <td id=\"T_7af68_row5_col0\" class=\"data row5 col0\" >5</td>\n",
       "      <td id=\"T_7af68_row5_col1\" class=\"data row5 col1\" >0.750000</td>\n",
       "    </tr>\n",
       "    <tr>\n",
       "      <td id=\"T_7af68_row6_col0\" class=\"data row6 col0\" >6</td>\n",
       "      <td id=\"T_7af68_row6_col1\" class=\"data row6 col1\" >0.945455</td>\n",
       "    </tr>\n",
       "    <tr>\n",
       "      <td id=\"T_7af68_row7_col0\" class=\"data row7 col0\" >7</td>\n",
       "      <td id=\"T_7af68_row7_col1\" class=\"data row7 col1\" >0.916667</td>\n",
       "    </tr>\n",
       "    <tr>\n",
       "      <td id=\"T_7af68_row8_col0\" class=\"data row8 col0\" >8</td>\n",
       "      <td id=\"T_7af68_row8_col1\" class=\"data row8 col1\" >0.849398</td>\n",
       "    </tr>\n",
       "    <tr>\n",
       "      <td id=\"T_7af68_row9_col0\" class=\"data row9 col0\" >9</td>\n",
       "      <td id=\"T_7af68_row9_col1\" class=\"data row9 col1\" >0.875000</td>\n",
       "    </tr>\n",
       "  </tbody>\n",
       "</table>\n"
      ],
      "text/plain": [
       "<pandas.io.formats.style.Styler at 0x7bcc1cd9d210>"
      ]
     },
     "execution_count": 322,
     "metadata": {},
     "output_type": "execute_result"
    }
   ],
   "source": [
    "def generate_confusion_table(cm, cls):\n",
    "  ct = np.zeros((2,2))\n",
    "\n",
    "  TP = cm[cls, cls]\n",
    "  FP = cm[:, cls].sum() - TP\n",
    "  FN = cm[cls, :].sum() - TP\n",
    "  TN = cm.sum() - TP - FP - FN\n",
    "\n",
    "  ct[0,0] = TP\n",
    "  ct[0,1] = FN\n",
    "  ct[1,0] = FP\n",
    "  ct[1,1] = TN\n",
    "\n",
    "  return ct\n",
    "\n",
    "cm = create_confusion_matrix(y_true, y_pred)\n",
    "ct_of_classes = [generate_confusion_table(cm, i) for i in range(10)]\n",
    "df = pd.DataFrame(range(10), columns=[\"Digits\"])\n",
    "df[\"TPR\"] = np.nan\n",
    "\n",
    "for cls in range(10):\n",
    "  ct = ct_of_classes[cls]\n",
    "  TP = ct[0, 0]\n",
    "  FN = ct[0, 1]\n",
    "  df.loc[cls, \"TPR\"] = TP / (TP + FN)\n",
    "\n",
    "df.style.hide(axis=\"index\")"
   ]
  },
  {
   "cell_type": "markdown",
   "metadata": {
    "id": "zDJbn7h3-ZGj"
   },
   "source": [
    "# Part B - Softmax Regression"
   ]
  },
  {
   "cell_type": "code",
   "execution_count": 303,
   "metadata": {
    "id": "pKGH45Km-cnR"
   },
   "outputs": [],
   "source": [
    "class SoftmaxRegression:\n",
    "  def __init__(self, max_epochs = 1000, *, grad_tresh=1e-3, ein_tresh=1e-3, eta=0.1):\n",
    "    self._max_epochs = max_epochs\n",
    "    self._eta = eta\n",
    "    self._grad_tresh = grad_tresh\n",
    "    self._ein_tresh = ein_tresh\n",
    "\n",
    "  def fit(self, X, Y):\n",
    "    m, n_features = X.shape\n",
    "    n_classes = Y.shape[1]\n",
    "\n",
    "    self._wb = np.random.randn(n_classes, n_features) * 0.01\n",
    "    for _ in tqdm(range(self._max_epochs)):\n",
    "      yh = self.predict(X)\n",
    "      grad = self._grad(Y, yh, X) / m\n",
    "      self._wb -= self._eta * grad\n",
    "\n",
    "      if np.linalg.norm(grad) < self._grad_tresh or self._cross_entropy(Y, yh) < self._ein_tresh:\n",
    "          break\n",
    "\n",
    "  def _softmax(self, X):\n",
    "    \"\"\"Softmax function\"\"\"\n",
    "    exp_x = np.exp(X)\n",
    "    return exp_x / exp_x.sum(axis=0, keepdims=True)\n",
    "\n",
    "  def _grad(self, y, yh, x):\n",
    "    return (yh - y).T @ x\n",
    "\n",
    "  def predict(self, X):\n",
    "    return self._softmax(self._wb @ X.T).T\n",
    "\n",
    "  def _cross_entropy(self, y, yh):\n",
    "    \"\"\"Evaluate the cross entropy\"\"\"\n",
    "\n",
    "    # y is one-hot encoded, hence, we can simplify the equation that is given in the instructions\n",
    "    # because if we calculate y * log(expr) we will only get the result from the element which is tagged as '1' in the one-hot encoded vector.\n",
    "    return -np.sum(y * np.log(yh))\n"
   ]
  },
  {
   "cell_type": "code",
   "execution_count": 304,
   "metadata": {
    "colab": {
     "base_uri": "https://localhost:8080/",
     "height": 49,
     "referenced_widgets": [
      "664d030f8186452f86e176c9ba18eae1",
      "e6a4450d87ea4dbf90946fe17990a43d",
      "591c47be48e64c428c7bd7024bf01090",
      "11aade049e4141518511dca3a4b308be",
      "4318b3020adf4525acac5642778dd496",
      "0437b7cdd61445ea8199f0855b3a3566",
      "9863ca0443a843a9af9d4072e62e87e1",
      "b764bef5cb8f4ecaa96b5301084e15cc",
      "9ca228e2639f4b31b70ea3fcb4d0193b",
      "448800afb8fd4ab6bd4eb73c1ce0ce44",
      "81daa3c4aab3464e85ea562ad7aefcaf"
     ]
    },
    "id": "-RU_KgnKZFSp",
    "outputId": "f9844246-4c56-4ad5-ffc4-ceb4eb28bff8"
   },
   "outputs": [
    {
     "data": {
      "application/vnd.jupyter.widget-view+json": {
       "model_id": "664d030f8186452f86e176c9ba18eae1",
       "version_major": 2,
       "version_minor": 0
      },
      "text/plain": [
       "  0%|          | 0/1000 [00:00<?, ?it/s]"
      ]
     },
     "metadata": {},
     "output_type": "display_data"
    }
   ],
   "source": [
    "X_normalized = X_train / 255.0\n",
    "s = SoftmaxRegression(1000)\n",
    "s.fit(X_normalized, Y_train)"
   ]
  },
  {
   "cell_type": "code",
   "execution_count": 310,
   "metadata": {
    "colab": {
     "base_uri": "https://localhost:8080/",
     "height": 510
    },
    "id": "T0DGt5FKjk6h",
    "outputId": "a5c2d810-7fb7-411d-e0f5-c45b58e75498"
   },
   "outputs": [
    {
     "data": {
      "image/png": "[encoded data removed]",
      "text/plain": [
       "<Figure size 640x480 with 2 Axes>"
      ]
     },
     "metadata": {},
     "output_type": "display_data"
    },
    {
     "name": "stdout",
     "output_type": "stream",
     "text": [
      "\n",
      "Accuracy: 91.45%\n"
     ]
    }
   ],
   "source": [
    "X_test_normalized = X_test / 255.0\n",
    "\n",
    "cm = create_confusion_matrix(Y_test.argmax(axis=1), s.predict(X_normalized).argmax(axis=1))\n",
    "plot_confusion_matrix(Y_test.argmax(axis=1), s.predict(X_test_normalized).argmax(axis=1), title=\"Softmax Regression\", class_names=range(10))\n",
    "print(f\"\\nAccuracy: {calculate_accuracy(Y_test.argmax(axis=1), s.predict(X_test_normalized).argmax(axis=1)) * 100}%\")"
   ]
  },
  {
   "cell_type": "code",
   "execution_count": 323,
   "metadata": {
    "colab": {
     "base_uri": "https://localhost:8080/",
     "height": 363
    },
    "id": "ubHunq648W3y",
    "outputId": "4a15b34e-31f9-4962-8a4c-8e8d5c0cb8a9"
   },
   "outputs": [
    {
     "data": {
      "text/html": [
       "<style type=\"text/css\">\n",
       "</style>\n",
       "<table id=\"T_a179d\" class=\"dataframe\">\n",
       "  <thead>\n",
       "    <tr>\n",
       "      <th id=\"T_a179d_level0_col0\" class=\"col_heading level0 col0\" >Digits</th>\n",
       "      <th id=\"T_a179d_level0_col1\" class=\"col_heading level0 col1\" >TPR</th>\n",
       "    </tr>\n",
       "  </thead>\n",
       "  <tbody>\n",
       "    <tr>\n",
       "      <td id=\"T_a179d_row0_col0\" class=\"data row0 col0\" >0</td>\n",
       "      <td id=\"T_a179d_row0_col1\" class=\"data row0 col1\" >0.980676</td>\n",
       "    </tr>\n",
       "    <tr>\n",
       "      <td id=\"T_a179d_row1_col0\" class=\"data row1 col0\" >1</td>\n",
       "      <td id=\"T_a179d_row1_col1\" class=\"data row1 col1\" >0.958333</td>\n",
       "    </tr>\n",
       "    <tr>\n",
       "      <td id=\"T_a179d_row2_col0\" class=\"data row2 col0\" >2</td>\n",
       "      <td id=\"T_a179d_row2_col1\" class=\"data row2 col1\" >0.892157</td>\n",
       "    </tr>\n",
       "    <tr>\n",
       "      <td id=\"T_a179d_row3_col0\" class=\"data row3 col0\" >3</td>\n",
       "      <td id=\"T_a179d_row3_col1\" class=\"data row3 col1\" >0.875000</td>\n",
       "    </tr>\n",
       "    <tr>\n",
       "      <td id=\"T_a179d_row4_col0\" class=\"data row4 col0\" >4</td>\n",
       "      <td id=\"T_a179d_row4_col1\" class=\"data row4 col1\" >0.928910</td>\n",
       "    </tr>\n",
       "    <tr>\n",
       "      <td id=\"T_a179d_row5_col0\" class=\"data row5 col0\" >5</td>\n",
       "      <td id=\"T_a179d_row5_col1\" class=\"data row5 col1\" >0.835227</td>\n",
       "    </tr>\n",
       "    <tr>\n",
       "      <td id=\"T_a179d_row6_col0\" class=\"data row6 col0\" >6</td>\n",
       "      <td id=\"T_a179d_row6_col1\" class=\"data row6 col1\" >0.945455</td>\n",
       "    </tr>\n",
       "    <tr>\n",
       "      <td id=\"T_a179d_row7_col0\" class=\"data row7 col0\" >7</td>\n",
       "      <td id=\"T_a179d_row7_col1\" class=\"data row7 col1\" >0.939815</td>\n",
       "    </tr>\n",
       "    <tr>\n",
       "      <td id=\"T_a179d_row8_col0\" class=\"data row8 col0\" >8</td>\n",
       "      <td id=\"T_a179d_row8_col1\" class=\"data row8 col1\" >0.879518</td>\n",
       "    </tr>\n",
       "    <tr>\n",
       "      <td id=\"T_a179d_row9_col0\" class=\"data row9 col0\" >9</td>\n",
       "      <td id=\"T_a179d_row9_col1\" class=\"data row9 col1\" >0.880208</td>\n",
       "    </tr>\n",
       "  </tbody>\n",
       "</table>\n"
      ],
      "text/plain": [
       "<pandas.io.formats.style.Styler at 0x7bcc1cdb1210>"
      ]
     },
     "execution_count": 323,
     "metadata": {},
     "output_type": "execute_result"
    }
   ],
   "source": [
    "def generate_confusion_table(cm, cls):\n",
    "  ct = np.zeros((2,2))\n",
    "\n",
    "  TP = cm[cls, cls]\n",
    "  FP = cm[:, cls].sum() - TP\n",
    "  FN = cm[cls, :].sum() - TP\n",
    "  TN = cm.sum() - TP - FP - FN\n",
    "\n",
    "  ct[0,0] = TP\n",
    "  ct[0,1] = FN\n",
    "  ct[1,0] = FP\n",
    "  ct[1,1] = TN\n",
    "\n",
    "  return ct\n",
    "\n",
    "cm = create_confusion_matrix(Y_test.argmax(axis=1), s.predict(X_test_normalized).argmax(axis=1))\n",
    "ct_of_classes = [generate_confusion_table(cm, i) for i in range(10)]\n",
    "df = pd.DataFrame(range(10), columns=[\"Digits\"])\n",
    "df[\"TPR\"] = np.nan\n",
    "\n",
    "for cls in range(10):\n",
    "  ct = ct_of_classes[cls]\n",
    "  TP = ct[0, 0]\n",
    "  FN = ct[0, 1]\n",
    "  df.loc[cls, \"TPR\"] = TP / (TP + FN)\n",
    "\n",
    "df.style.hide(axis=\"index\")"
   ]
  },
  {
   "cell_type": "markdown",
   "metadata": {
    "id": "a7FBaLcA-7nm"
   },
   "source": [
    "# Part C - Linear Regression"
   ]
  },
  {
   "cell_type": "code",
   "execution_count": null,
   "metadata": {
    "id": "OhcuAdmV--Pz"
   },
   "outputs": [],
   "source": []
  }
 ],
 "metadata": {
  "colab": {
   "collapsed_sections": [
    "a7FBaLcA-7nm"
   ],
   "provenance": []
  },
  "kernelspec": {
   "display_name": "Python 3",
   "name": "python3"
  },
  "language_info": {
   "name": "python"
  }
 },
 "nbformat": 4,
 "nbformat_minor": 0
}
